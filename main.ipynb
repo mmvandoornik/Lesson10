{
 "metadata": {
  "name": "",
  "signature": "sha256:afcd9d645fd8519e8ca28344db47700df2c3831502f15007699d5e3bcfd184ef"
 },
 "nbformat": 3,
 "nbformat_minor": 0,
 "worksheets": [
  {
   "cells": [
    {
     "cell_type": "code",
     "collapsed": false,
     "input": [
      "# import modules\n",
      "import os\n",
      "from osgeo import ogr,osr\n",
      "import folium  \n",
      "\n",
      "# set working directory\n",
      "os.chdir('/home/ubuntu/userdata/Lesson10/data')\n",
      "\n",
      "# function to generate the file in a desired format\n",
      "def MakeFile(driver,output):\n",
      "    house = ogr.Geometry(ogr.wkbPoint)\n",
      "    gaia = ogr.Geometry(ogr.wkbPoint)\n",
      "    house.SetPoint(0, 5.666250, 52.019818)\n",
      "    gaia.SetPoint(0, 5.665560, 51.987447)\n",
      "    spatialReference = osr.SpatialReference()\n",
      "    spatialReference.ImportFromProj4('+proj=longlat +ellps=WGS84 +datum=WGS84 +no_defs')\n",
      "    outDriver = ogr.GetDriverByName(driver)\n",
      "    outDataSource = outDriver.CreateDataSource(output)\n",
      "    outLayer = outDataSource.CreateLayer(output, spatialReference, geom_type=ogr.wkbPoint)\n",
      "    featureDefn = outLayer.GetLayerDefn()\n",
      "    outFeatureHouse = ogr.Feature(featureDefn)\n",
      "    outFeatureGaia = ogr.Feature(featureDefn)\n",
      "    outFeatureHouse.SetGeometry(house)\n",
      "    outFeatureGaia.SetGeometry(gaia)\n",
      "    outLayer.CreateFeature(outFeatureHouse)\n",
      "    outLayer.CreateFeature(outFeatureGaia)\n",
      "    outDataSource.Destroy()\n",
      "    print \"Done\" \n",
      "\n",
      "#function calls\n",
      "MakeFile('ESRI Shapefile', 'points.shp')\n",
      "MakeFile('KML','points.kml')\n",
      "MakeFile('GeoJSON', 'points.geojson')\n",
      "\n",
      "# visualize in a map\n",
      "pointsGeo=os.path.join(\"points.geojson\")\n",
      "map_points = folium.Map(location=[52,5.7],tiles='Mapbox Bright', zoom_start=6)\n",
      "map_points.choropleth(geo_path=pointsGeo)\n",
      "map_points.save('points.html')"
     ],
     "language": "python",
     "metadata": {},
     "outputs": [
      {
       "output_type": "stream",
       "stream": "stdout",
       "text": [
        "Done\n",
        "Done\n",
        "Done\n"
       ]
      }
     ],
     "prompt_number": 1
    },
    {
     "cell_type": "code",
     "collapsed": false,
     "input": [],
     "language": "python",
     "metadata": {},
     "outputs": []
    }
   ],
   "metadata": {}
  }
 ]
}